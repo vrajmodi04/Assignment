{
  "nbformat": 4,
  "nbformat_minor": 0,
  "metadata": {
    "colab": {
      "name": "if_else_elif.ipynb",
      "provenance": []
    },
    "kernelspec": {
      "name": "python3",
      "display_name": "Python 3"
    },
    "language_info": {
      "name": "python"
    }
  },
  "cells": [
    {
      "cell_type": "code",
      "execution_count": null,
      "metadata": {
        "id": "XNzte_dcZpvk",
        "colab": {
          "base_uri": "https://localhost:8080/"
        },
        "outputId": "96f3c27b-fd4e-4db9-ca95-97c93cdee2dc"
      },
      "outputs": [
        {
          "output_type": "stream",
          "name": "stdout",
          "text": [
            "a is less than b\n"
          ]
        }
      ],
      "source": [
        "#W.A.P to find greater and less than number using If_else\n",
        "a = 5\n",
        "b = 6\n",
        "if(a > b):\n",
        "  print(\"a is greater than b\")\n",
        "else:\n",
        "  print(\"a is less than b\")"
      ]
    },
    {
      "cell_type": "code",
      "source": [
        "a = 20\n",
        "b = 21\n",
        "c = 25\n",
        "if (a > b):\n",
        "  print(\"a is greater than b\")\n",
        "elif(a > c):\n",
        "  print(\"a is greater than b and c\")\n",
        "elif(b > c):\n",
        "  print(\"b is greater than c\")"
      ],
      "metadata": {
        "id": "fB5jglm9cPqu"
      },
      "execution_count": null,
      "outputs": []
    },
    {
      "cell_type": "code",
      "source": [
        "a = 20\n",
        "b = 21\n",
        "c = 25\n",
        "if(a >= b) and (a >= c):\n",
        "  print(\"a is greater than b and c\")\n",
        "elif(b >=a) and (b >= c):\n",
        "  print(\"b is greater than a and c\")\n",
        "else:\n",
        "  print(\"c is greater\")"
      ],
      "metadata": {
        "colab": {
          "base_uri": "https://localhost:8080/"
        },
        "id": "-gD8-z29dPFk",
        "outputId": "d9464167-6166-4d04-a47a-b28058567c1e"
      },
      "execution_count": null,
      "outputs": [
        {
          "output_type": "stream",
          "name": "stdout",
          "text": [
            "c is greater\n"
          ]
        }
      ]
    },
    {
      "cell_type": "code",
      "source": [
        "n1 = 60\n",
        "n2 = 70\n",
        "n3 = 55\n",
        "n4 = 53\n",
        "if(n1 >= n2) and (n1 >= n3) and (n1 >= n4):\n",
        "  print(\"n1 is greater\")\n",
        "elif(n2 >= n1) and (n2 >= n3) and (n2 >= n4):\n",
        "  print(\"n2 is greater\")\n",
        "elif(n3 >= n1) and (n3 >= n2) and (n3 >= n4):\n",
        "  print(\"n3 is greater\")\n",
        "else:\n",
        "  print(\"n4 is greater\")"
      ],
      "metadata": {
        "colab": {
          "base_uri": "https://localhost:8080/"
        },
        "id": "xD9N_390eiJG",
        "outputId": "9b5764cb-4d24-4949-a75b-1de2be5c7788"
      },
      "execution_count": null,
      "outputs": [
        {
          "output_type": "stream",
          "name": "stdout",
          "text": [
            "n2 is greater\n"
          ]
        }
      ]
    },
    {
      "cell_type": "code",
      "source": [
        "#W.A.P to find that who can donate the blood using Nested if\n",
        "\n",
        "n = int(input('Enter your age = '))\n",
        "if(n>=18 and n<=65):\n",
        "  print('you are eligible for donating blood')\n",
        "  bg = input('Enter your blood group= ')\n",
        "  if(bg=='o+' or bg=='o positive'):\n",
        "    print('You can donate blood to everyone.')\n",
        "  elif(bg=='O-' or bg=='O negative'):\n",
        "    print('You can donate blood to person having O- blood group')\n",
        "  elif(bg=='A+' or bg=='A positive'):\n",
        "    print('You can donate blood to person having A+ blood group')\n",
        "  elif(bg=='A-' or bg=='A negative'):\n",
        "    print('You can donate blood to person having A- blood group')\n",
        "  elif(bg=='B+' or bg=='B positive'):\n",
        "    print('You can donate blood to person having B+ blood group')\n",
        "  elif(bg=='B-' or bg=='B negative'):\n",
        "    print('You can donate blood to person having B- blood group')\n",
        "  elif(bg=='AB+' or bg=='AB positive'):\n",
        "    print('You can donate blood to person having AB+ blood group')\n",
        "  elif(bg=='AB-' or bg=='AB negative'):\n",
        "    print('You can donate blood to person having AB- blood group')\n",
        "else:\n",
        "  print('You are not eligible for donating blood')"
      ],
      "metadata": {
        "id": "eSdhrBRzgDG7",
        "colab": {
          "base_uri": "https://localhost:8080/"
        },
        "outputId": "d95e831b-714c-4c89-cdd2-1da4fadf6a2c"
      },
      "execution_count": null,
      "outputs": [
        {
          "output_type": "stream",
          "name": "stdout",
          "text": [
            "Enter your age = 19\n",
            "you are eligible for donating blood\n",
            "Enter your blood group= AB+\n",
            "You can donate blood to person having AB+ blood group\n"
          ]
        }
      ]
    }
  ]
}