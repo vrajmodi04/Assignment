{
  "nbformat": 4,
  "nbformat_minor": 0,
  "metadata": {
    "colab": {
      "name": "operators.ipynb",
      "provenance": []
    },
    "kernelspec": {
      "name": "python3",
      "display_name": "Python 3"
    },
    "language_info": {
      "name": "python"
    }
  },
  "cells": [
    {
      "cell_type": "code",
      "source": [
        "num = float(input(\"enter a number: \"))\n",
        "if num >= 0:\n",
        "  if num == 0:\n",
        "      print(\"Zero\")\n",
        "  else:\n",
        "      print(\"positive number\")\n",
        "else:\n",
        "  print(\"negative number\")"
      ],
      "metadata": {
        "colab": {
          "base_uri": "https://localhost:8080/"
        },
        "id": "kU9IFFdY-xyK",
        "outputId": "8a7239fb-9e40-4498-b85b-648f87f8bfc1"
      },
      "execution_count": null,
      "outputs": [
        {
          "output_type": "stream",
          "name": "stdout",
          "text": [
            "enter a number: 0\n",
            "Zero\n"
          ]
        }
      ]
    },
    {
      "cell_type": "code",
      "source": [
        "x = 32\n",
        "y = 30"
      ],
      "metadata": {
        "id": "dZ-T3gHsB9ei"
      },
      "execution_count": null,
      "outputs": []
    },
    {
      "cell_type": "code",
      "source": [
        "x + y"
      ],
      "metadata": {
        "colab": {
          "base_uri": "https://localhost:8080/"
        },
        "id": "6CbwbATvCTM0",
        "outputId": "eec63d17-0c89-4689-d88a-8fb48253f4aa"
      },
      "execution_count": null,
      "outputs": [
        {
          "output_type": "execute_result",
          "data": {
            "text/plain": [
              "62"
            ]
          },
          "metadata": {},
          "execution_count": 42
        }
      ]
    },
    {
      "cell_type": "code",
      "source": [
        "n = float(input(\"enter a number: \"))\n",
        "if(n>0):\n",
        "  print(\"positive number\")\n",
        "elif(n==0):\n",
        "  print(\"zero\")\n",
        "elif(n<0):\n",
        "  print(\"negative number\")"
      ],
      "metadata": {
        "colab": {
          "base_uri": "https://localhost:8080/"
        },
        "id": "hBjPgMK0FrVl",
        "outputId": "93fcce15-2ae2-43cb-ae75-d94e0368c5fa"
      },
      "execution_count": 1,
      "outputs": [
        {
          "output_type": "stream",
          "name": "stdout",
          "text": [
            "enter a number: -1\n",
            "negative number\n"
          ]
        }
      ]
    },
    {
      "cell_type": "code",
      "source": [
        "\n"
      ],
      "metadata": {
        "id": "d3NoKK3TGDge"
      },
      "execution_count": null,
      "outputs": []
    }
  ]
}